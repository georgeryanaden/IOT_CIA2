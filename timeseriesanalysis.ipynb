{
 "cells": [
  {
   "cell_type": "code",
   "execution_count": 1,
   "metadata": {
    "_cell_guid": "b1076dfc-b9ad-4769-8c92-a6c4dae69d19",
    "_uuid": "8f2839f25d086af736a60e9eeb907d3b93b6e0e5",
    "execution": {
     "iopub.execute_input": "2023-04-09T10:55:09.27437Z",
     "iopub.status.busy": "2023-04-09T10:55:09.274006Z",
     "iopub.status.idle": "2023-04-09T10:55:09.291081Z",
     "shell.execute_reply": "2023-04-09T10:55:09.290016Z",
     "shell.execute_reply.started": "2023-04-09T10:55:09.274342Z"
    }
   },
   "outputs": [],
   "source": [
    "\n",
    "import numpy as np \n",
    "import pandas as pd \n",
    "import os\n",
    "for dirname, _, filenames in os.walk('/kaggle/input'):\n",
    "    for filename in filenames:\n",
    "        print(os.path.join(dirname, filename))"
   ]
  },
  {
   "cell_type": "code",
   "execution_count": 2,
   "metadata": {
    "execution": {
     "iopub.execute_input": "2023-04-09T10:55:09.293513Z",
     "iopub.status.busy": "2023-04-09T10:55:09.293082Z",
     "iopub.status.idle": "2023-04-09T10:55:09.37627Z",
     "shell.execute_reply": "2023-04-09T10:55:09.373829Z",
     "shell.execute_reply.started": "2023-04-09T10:55:09.29347Z"
    }
   },
   "outputs": [],
   "source": [
    "\n",
    "res = []\n",
    "for dirname,_,filenames in os.walk('/kaggle/input'):\n",
    "    for filename in filenames:\n",
    "        filepath = os.path.join(dirname,filename)\n",
    "        print(filepath)\n",
    "        res.append(\n",
    "            pd.read_csv(\n",
    "                filepath,\n",
    "                names=['id','date','time','consumption'],\n",
    "                parse_dates= {'datetime':['date','time']},\n",
    "                index_col='id',\n",
    "                header=0,\n",
    "                date_parser=lambda x,y: pd.to_datetime(x+' '+y,format='%d %b %Y %H:%M:%S')\n",
    "            )\n",
    "        )"
   ]
  },
  {
   "cell_type": "code",
   "execution_count": 3,
   "metadata": {
    "execution": {
     "iopub.execute_input": "2023-04-09T10:55:09.378752Z",
     "iopub.status.busy": "2023-04-09T10:55:09.378311Z",
     "iopub.status.idle": "2023-04-09T10:55:09.393663Z",
     "shell.execute_reply": "2023-04-09T10:55:09.39239Z",
     "shell.execute_reply.started": "2023-04-09T10:55:09.378709Z"
    }
   },
   "outputs": [
    {
     "ename": "ValueError",
     "evalue": "No objects to concatenate",
     "output_type": "error",
     "traceback": [
      "\u001b[1;31m---------------------------------------------------------------------------\u001b[0m",
      "\u001b[1;31mValueError\u001b[0m                                Traceback (most recent call last)",
      "Cell \u001b[1;32mIn[3], line 1\u001b[0m\n\u001b[1;32m----> 1\u001b[0m df \u001b[38;5;241m=\u001b[39m \u001b[43mpd\u001b[49m\u001b[38;5;241;43m.\u001b[39;49m\u001b[43mconcat\u001b[49m\u001b[43m(\u001b[49m\u001b[43mres\u001b[49m\u001b[43m,\u001b[49m\u001b[43mignore_index\u001b[49m\u001b[38;5;241;43m=\u001b[39;49m\u001b[38;5;28;43;01mTrue\u001b[39;49;00m\u001b[43m)\u001b[49m\u001b[38;5;241m.\u001b[39msort_values(\u001b[38;5;124m'\u001b[39m\u001b[38;5;124mdatetime\u001b[39m\u001b[38;5;124m'\u001b[39m)\n",
      "File \u001b[1;32mD:\\Anaconda\\lib\\site-packages\\pandas\\util\\_decorators.py:331\u001b[0m, in \u001b[0;36mdeprecate_nonkeyword_arguments.<locals>.decorate.<locals>.wrapper\u001b[1;34m(*args, **kwargs)\u001b[0m\n\u001b[0;32m    325\u001b[0m \u001b[38;5;28;01mif\u001b[39;00m \u001b[38;5;28mlen\u001b[39m(args) \u001b[38;5;241m>\u001b[39m num_allow_args:\n\u001b[0;32m    326\u001b[0m     warnings\u001b[38;5;241m.\u001b[39mwarn(\n\u001b[0;32m    327\u001b[0m         msg\u001b[38;5;241m.\u001b[39mformat(arguments\u001b[38;5;241m=\u001b[39m_format_argument_list(allow_args)),\n\u001b[0;32m    328\u001b[0m         \u001b[38;5;167;01mFutureWarning\u001b[39;00m,\n\u001b[0;32m    329\u001b[0m         stacklevel\u001b[38;5;241m=\u001b[39mfind_stack_level(),\n\u001b[0;32m    330\u001b[0m     )\n\u001b[1;32m--> 331\u001b[0m \u001b[38;5;28;01mreturn\u001b[39;00m func(\u001b[38;5;241m*\u001b[39margs, \u001b[38;5;241m*\u001b[39m\u001b[38;5;241m*\u001b[39mkwargs)\n",
      "File \u001b[1;32mD:\\Anaconda\\lib\\site-packages\\pandas\\core\\reshape\\concat.py:368\u001b[0m, in \u001b[0;36mconcat\u001b[1;34m(objs, axis, join, ignore_index, keys, levels, names, verify_integrity, sort, copy)\u001b[0m\n\u001b[0;32m    146\u001b[0m \u001b[38;5;129m@deprecate_nonkeyword_arguments\u001b[39m(version\u001b[38;5;241m=\u001b[39m\u001b[38;5;28;01mNone\u001b[39;00m, allowed_args\u001b[38;5;241m=\u001b[39m[\u001b[38;5;124m\"\u001b[39m\u001b[38;5;124mobjs\u001b[39m\u001b[38;5;124m\"\u001b[39m])\n\u001b[0;32m    147\u001b[0m \u001b[38;5;28;01mdef\u001b[39;00m \u001b[38;5;21mconcat\u001b[39m(\n\u001b[0;32m    148\u001b[0m     objs: Iterable[NDFrame] \u001b[38;5;241m|\u001b[39m Mapping[HashableT, NDFrame],\n\u001b[1;32m   (...)\u001b[0m\n\u001b[0;32m    157\u001b[0m     copy: \u001b[38;5;28mbool\u001b[39m \u001b[38;5;241m=\u001b[39m \u001b[38;5;28;01mTrue\u001b[39;00m,\n\u001b[0;32m    158\u001b[0m ) \u001b[38;5;241m-\u001b[39m\u001b[38;5;241m>\u001b[39m DataFrame \u001b[38;5;241m|\u001b[39m Series:\n\u001b[0;32m    159\u001b[0m     \u001b[38;5;124;03m\"\"\"\u001b[39;00m\n\u001b[0;32m    160\u001b[0m \u001b[38;5;124;03m    Concatenate pandas objects along a particular axis.\u001b[39;00m\n\u001b[0;32m    161\u001b[0m \n\u001b[1;32m   (...)\u001b[0m\n\u001b[0;32m    366\u001b[0m \u001b[38;5;124;03m    1   3   4\u001b[39;00m\n\u001b[0;32m    367\u001b[0m \u001b[38;5;124;03m    \"\"\"\u001b[39;00m\n\u001b[1;32m--> 368\u001b[0m     op \u001b[38;5;241m=\u001b[39m \u001b[43m_Concatenator\u001b[49m\u001b[43m(\u001b[49m\n\u001b[0;32m    369\u001b[0m \u001b[43m        \u001b[49m\u001b[43mobjs\u001b[49m\u001b[43m,\u001b[49m\n\u001b[0;32m    370\u001b[0m \u001b[43m        \u001b[49m\u001b[43maxis\u001b[49m\u001b[38;5;241;43m=\u001b[39;49m\u001b[43maxis\u001b[49m\u001b[43m,\u001b[49m\n\u001b[0;32m    371\u001b[0m \u001b[43m        \u001b[49m\u001b[43mignore_index\u001b[49m\u001b[38;5;241;43m=\u001b[39;49m\u001b[43mignore_index\u001b[49m\u001b[43m,\u001b[49m\n\u001b[0;32m    372\u001b[0m \u001b[43m        \u001b[49m\u001b[43mjoin\u001b[49m\u001b[38;5;241;43m=\u001b[39;49m\u001b[43mjoin\u001b[49m\u001b[43m,\u001b[49m\n\u001b[0;32m    373\u001b[0m \u001b[43m        \u001b[49m\u001b[43mkeys\u001b[49m\u001b[38;5;241;43m=\u001b[39;49m\u001b[43mkeys\u001b[49m\u001b[43m,\u001b[49m\n\u001b[0;32m    374\u001b[0m \u001b[43m        \u001b[49m\u001b[43mlevels\u001b[49m\u001b[38;5;241;43m=\u001b[39;49m\u001b[43mlevels\u001b[49m\u001b[43m,\u001b[49m\n\u001b[0;32m    375\u001b[0m \u001b[43m        \u001b[49m\u001b[43mnames\u001b[49m\u001b[38;5;241;43m=\u001b[39;49m\u001b[43mnames\u001b[49m\u001b[43m,\u001b[49m\n\u001b[0;32m    376\u001b[0m \u001b[43m        \u001b[49m\u001b[43mverify_integrity\u001b[49m\u001b[38;5;241;43m=\u001b[39;49m\u001b[43mverify_integrity\u001b[49m\u001b[43m,\u001b[49m\n\u001b[0;32m    377\u001b[0m \u001b[43m        \u001b[49m\u001b[43mcopy\u001b[49m\u001b[38;5;241;43m=\u001b[39;49m\u001b[43mcopy\u001b[49m\u001b[43m,\u001b[49m\n\u001b[0;32m    378\u001b[0m \u001b[43m        \u001b[49m\u001b[43msort\u001b[49m\u001b[38;5;241;43m=\u001b[39;49m\u001b[43msort\u001b[49m\u001b[43m,\u001b[49m\n\u001b[0;32m    379\u001b[0m \u001b[43m    \u001b[49m\u001b[43m)\u001b[49m\n\u001b[0;32m    381\u001b[0m     \u001b[38;5;28;01mreturn\u001b[39;00m op\u001b[38;5;241m.\u001b[39mget_result()\n",
      "File \u001b[1;32mD:\\Anaconda\\lib\\site-packages\\pandas\\core\\reshape\\concat.py:425\u001b[0m, in \u001b[0;36m_Concatenator.__init__\u001b[1;34m(self, objs, axis, join, keys, levels, names, ignore_index, verify_integrity, copy, sort)\u001b[0m\n\u001b[0;32m    422\u001b[0m     objs \u001b[38;5;241m=\u001b[39m \u001b[38;5;28mlist\u001b[39m(objs)\n\u001b[0;32m    424\u001b[0m \u001b[38;5;28;01mif\u001b[39;00m \u001b[38;5;28mlen\u001b[39m(objs) \u001b[38;5;241m==\u001b[39m \u001b[38;5;241m0\u001b[39m:\n\u001b[1;32m--> 425\u001b[0m     \u001b[38;5;28;01mraise\u001b[39;00m \u001b[38;5;167;01mValueError\u001b[39;00m(\u001b[38;5;124m\"\u001b[39m\u001b[38;5;124mNo objects to concatenate\u001b[39m\u001b[38;5;124m\"\u001b[39m)\n\u001b[0;32m    427\u001b[0m \u001b[38;5;28;01mif\u001b[39;00m keys \u001b[38;5;129;01mis\u001b[39;00m \u001b[38;5;28;01mNone\u001b[39;00m:\n\u001b[0;32m    428\u001b[0m     objs \u001b[38;5;241m=\u001b[39m \u001b[38;5;28mlist\u001b[39m(com\u001b[38;5;241m.\u001b[39mnot_none(\u001b[38;5;241m*\u001b[39mobjs))\n",
      "\u001b[1;31mValueError\u001b[0m: No objects to concatenate"
     ]
    }
   ],
   "source": [
    "df = pd.concat(res,ignore_index=True).sort_values('datetime')"
   ]
  },
  {
   "cell_type": "code",
   "execution_count": null,
   "metadata": {
    "execution": {
     "iopub.execute_input": "2023-04-09T10:55:09.427462Z",
     "iopub.status.busy": "2023-04-09T10:55:09.427085Z",
     "iopub.status.idle": "2023-04-09T10:55:09.436812Z",
     "shell.execute_reply": "2023-04-09T10:55:09.435895Z",
     "shell.execute_reply.started": "2023-04-09T10:55:09.427424Z"
    }
   },
   "outputs": [],
   "source": [
    "print(f\"min date: {df['datetime'].min()}, max date: {df['datetime'].max()}\")\n",
    "print(f\"range: {df['datetime'].max()-df['datetime'].min()}\")"
   ]
  },
  {
   "cell_type": "code",
   "execution_count": null,
   "metadata": {
    "execution": {
     "iopub.execute_input": "2023-04-09T10:55:09.438479Z",
     "iopub.status.busy": "2023-04-09T10:55:09.438168Z",
     "iopub.status.idle": "2023-04-09T10:55:09.467387Z",
     "shell.execute_reply": "2023-04-09T10:55:09.464942Z",
     "shell.execute_reply.started": "2023-04-09T10:55:09.438448Z"
    }
   },
   "outputs": [],
   "source": [
    "#daily energy consumption\n",
    "df.sort_values('datetime').rolling('1D',on='datetime').sum().head()"
   ]
  },
  {
   "cell_type": "code",
   "execution_count": null,
   "metadata": {
    "execution": {
     "iopub.execute_input": "2023-04-09T10:55:09.469411Z",
     "iopub.status.busy": "2023-04-09T10:55:09.469074Z",
     "iopub.status.idle": "2023-04-09T10:55:09.84565Z",
     "shell.execute_reply": "2023-04-09T10:55:09.844004Z",
     "shell.execute_reply.started": "2023-04-09T10:55:09.469379Z"
    }
   },
   "outputs": [],
   "source": [
    "import matplotlib.pyplot as plt\n",
    "df.rolling('1H',on='datetime').sum().loc[df['consumption']>0.5].plot(x='datetime',y='consumption',title=\"Hourly energy consumption\",figsize=(20,6))"
   ]
  },
  {
   "cell_type": "code",
   "execution_count": null,
   "metadata": {
    "execution": {
     "iopub.execute_input": "2023-04-09T10:55:09.847712Z",
     "iopub.status.busy": "2023-04-09T10:55:09.847356Z",
     "iopub.status.idle": "2023-04-09T10:55:09.868084Z",
     "shell.execute_reply": "2023-04-09T10:55:09.867301Z",
     "shell.execute_reply.started": "2023-04-09T10:55:09.847679Z"
    }
   },
   "outputs": [],
   "source": [
    "# Monthly total consumption and daily average consumption for a month\n",
    "daily_cons = df.rolling('1d',on='datetime').sum()\n",
    "daily_cons.groupby(daily_cons['datetime'].dt.month)['consumption'].apply(lambda x: {'sum':x.sum(),'average':x.mean(),'count':x.count()})"
   ]
  },
  {
   "cell_type": "code",
   "execution_count": null,
   "metadata": {
    "execution": {
     "iopub.execute_input": "2023-04-09T10:55:09.871084Z",
     "iopub.status.busy": "2023-04-09T10:55:09.870596Z",
     "iopub.status.idle": "2023-04-09T10:55:10.131237Z",
     "shell.execute_reply": "2023-04-09T10:55:10.130089Z",
     "shell.execute_reply.started": "2023-04-09T10:55:09.871053Z"
    }
   },
   "outputs": [],
   "source": [
    "\n",
    "\n",
    "daily_cons.plot(x='datetime',y='consumption',title=\"Daily energy consumption\",figsize=(10,6))\n",
    "plt.show()"
   ]
  },
  {
   "cell_type": "code",
   "execution_count": null,
   "metadata": {
    "execution": {
     "iopub.execute_input": "2023-04-09T10:55:10.133107Z",
     "iopub.status.busy": "2023-04-09T10:55:10.132584Z",
     "iopub.status.idle": "2023-04-09T10:55:10.148891Z",
     "shell.execute_reply": "2023-04-09T10:55:10.147074Z",
     "shell.execute_reply.started": "2023-04-09T10:55:10.133071Z"
    }
   },
   "outputs": [],
   "source": [
    "daily_cons.describe()"
   ]
  },
  {
   "cell_type": "code",
   "execution_count": null,
   "metadata": {
    "execution": {
     "iopub.execute_input": "2023-04-09T10:55:10.152393Z",
     "iopub.status.busy": "2023-04-09T10:55:10.151934Z",
     "iopub.status.idle": "2023-04-09T10:55:10.168658Z",
     "shell.execute_reply": "2023-04-09T10:55:10.16707Z",
     "shell.execute_reply.started": "2023-04-09T10:55:10.152354Z"
    }
   },
   "outputs": [],
   "source": [
    "#Separating day and night consumption time\n",
    "\n",
    "day_consumption = df.loc[(pd.Timestamp('06:00').time()<=df['datetime'].dt.time)&(df['datetime'].dt.time<pd.Timestamp('18:00').time())&(df['consumption']>0.5)]\n",
    "night_consumption = df.loc[set(df.index)-set(day_consumption.index)].sort_values('datetime')\n",
    "night_consumption = night_consumption.loc[night_consumption['consumption']>0.5]"
   ]
  },
  {
   "cell_type": "code",
   "execution_count": null,
   "metadata": {
    "execution": {
     "iopub.execute_input": "2023-04-09T10:55:10.170443Z",
     "iopub.status.busy": "2023-04-09T10:55:10.170001Z",
     "iopub.status.idle": "2023-04-09T10:55:10.492576Z",
     "shell.execute_reply": "2023-04-09T10:55:10.490944Z",
     "shell.execute_reply.started": "2023-04-09T10:55:10.170409Z"
    }
   },
   "outputs": [],
   "source": [
    "fig,ax= plt.subplots(1,1,figsize=(20,6))\n",
    "day_hourly_cons = day_consumption.rolling('1H',on='datetime').sum()\n",
    "night_hourly_cons = night_consumption.rolling('1H',on='datetime').sum()\n",
    "ax.plot(day_hourly_cons['datetime'],day_hourly_cons['consumption'],'r-',label='Day Consumption')\n",
    "ax.plot(night_hourly_cons['datetime'],night_hourly_cons['consumption'],'b-',label='Night Consumption')\n",
    "ax.legend()\n",
    "ax.set_title(\"Hourly Energy Consumption\")\n",
    "ax.set_xlabel(\"Date\")\n",
    "ax.set_ylabel(\"Energy Consumption\")\n",
    "plt.show()"
   ]
  },
  {
   "cell_type": "code",
   "execution_count": null,
   "metadata": {
    "execution": {
     "iopub.execute_input": "2023-04-09T10:55:10.495435Z",
     "iopub.status.busy": "2023-04-09T10:55:10.494894Z",
     "iopub.status.idle": "2023-04-09T10:55:10.509397Z",
     "shell.execute_reply": "2023-04-09T10:55:10.507566Z",
     "shell.execute_reply.started": "2023-04-09T10:55:10.495376Z"
    }
   },
   "outputs": [],
   "source": [
    "daily_day_cons= day_consumption.rolling('1d',on='datetime').sum()\n",
    "daily_night_cons= night_consumption.rolling('1d',on='datetime').sum()"
   ]
  },
  {
   "cell_type": "code",
   "execution_count": null,
   "metadata": {
    "execution": {
     "iopub.execute_input": "2023-04-09T10:55:10.512643Z",
     "iopub.status.busy": "2023-04-09T10:55:10.512132Z",
     "iopub.status.idle": "2023-04-09T10:55:10.777807Z",
     "shell.execute_reply": "2023-04-09T10:55:10.777028Z",
     "shell.execute_reply.started": "2023-04-09T10:55:10.512596Z"
    }
   },
   "outputs": [],
   "source": [
    "fig,ax= plt.subplots(1,1,figsize=(15,7))\n",
    "\n",
    "ax.plot(daily_day_cons['datetime'],daily_day_cons['consumption'],'r-',label='Day Consumption')\n",
    "ax.plot(daily_night_cons['datetime'],daily_night_cons['consumption'],'b-',label='Night Consumption')\n",
    "ax.legend()\n",
    "ax.set_title(\"Daily Energy Consumption\")\n",
    "ax.set_xlabel(\"Date\")\n",
    "ax.set_ylabel(\"Energy Consumption\")\n",
    "plt.show()"
   ]
  },
  {
   "cell_type": "markdown",
   "metadata": {},
   "source": [
    "# **TimeSeries Forecasting**"
   ]
  },
  {
   "cell_type": "code",
   "execution_count": null,
   "metadata": {
    "execution": {
     "iopub.execute_input": "2023-04-09T10:55:10.780153Z",
     "iopub.status.busy": "2023-04-09T10:55:10.779051Z",
     "iopub.status.idle": "2023-04-09T10:55:10.804171Z",
     "shell.execute_reply": "2023-04-09T10:55:10.80284Z",
     "shell.execute_reply.started": "2023-04-09T10:55:10.780118Z"
    }
   },
   "outputs": [],
   "source": [
    "#Aggregating to day \n",
    "\n",
    "df_copy = df.set_index('datetime').sort_index()\n",
    "df_copy = df_copy.resample('1D').sum()"
   ]
  },
  {
   "cell_type": "markdown",
   "metadata": {},
   "source": [
    "**Additive Decompostion**"
   ]
  },
  {
   "cell_type": "code",
   "execution_count": null,
   "metadata": {
    "execution": {
     "iopub.execute_input": "2023-04-09T10:55:10.806014Z",
     "iopub.status.busy": "2023-04-09T10:55:10.805656Z",
     "iopub.status.idle": "2023-04-09T10:55:11.384219Z",
     "shell.execute_reply": "2023-04-09T10:55:11.382674Z",
     "shell.execute_reply.started": "2023-04-09T10:55:10.805975Z"
    }
   },
   "outputs": [],
   "source": [
    "#TimeSeries Additive Decomposition\n",
    "\n",
    "from statsmodels.tsa.seasonal import seasonal_decompose\n",
    "\n",
    "result = seasonal_decompose(df_copy,model='additive')\n",
    "plt.rc(\"figure\", figsize=(15,6))\n",
    "result.plot()\n",
    "plt.show()"
   ]
  },
  {
   "cell_type": "markdown",
   "metadata": {},
   "source": [
    "**Multiplicative Decomposition**"
   ]
  },
  {
   "cell_type": "markdown",
   "metadata": {},
   "source": [
    "# AutoRegression Forecasting"
   ]
  },
  {
   "cell_type": "markdown",
   "metadata": {
    "execution": {
     "iopub.execute_input": "2023-04-09T09:58:38.729177Z",
     "iopub.status.busy": "2023-04-09T09:58:38.728799Z",
     "iopub.status.idle": "2023-04-09T09:58:38.738535Z",
     "shell.execute_reply": "2023-04-09T09:58:38.736829Z",
     "shell.execute_reply.started": "2023-04-09T09:58:38.72915Z"
    }
   },
   "source": [
    "# **Moving Average Forecasting**"
   ]
  },
  {
   "cell_type": "code",
   "execution_count": null,
   "metadata": {
    "execution": {
     "iopub.execute_input": "2023-04-09T10:55:12.273903Z",
     "iopub.status.busy": "2023-04-09T10:55:12.273547Z",
     "iopub.status.idle": "2023-04-09T10:55:12.358566Z",
     "shell.execute_reply": "2023-04-09T10:55:12.356735Z",
     "shell.execute_reply.started": "2023-04-09T10:55:12.273868Z"
    }
   },
   "outputs": [],
   "source": [
    "from statsmodels.tsa.arima.model import ARIMA\n",
    "\n",
    "model = ARIMA(df_copy,order=(0,0,1))\n",
    "model_fit = model.fit()\n",
    "\n",
    "next_one_m = model_fit.predict('2022-03-01','2022-03-31')\n"
   ]
  },
  {
   "cell_type": "code",
   "execution_count": null,
   "metadata": {
    "execution": {
     "iopub.execute_input": "2023-04-09T10:55:12.360615Z",
     "iopub.status.busy": "2023-04-09T10:55:12.360287Z",
     "iopub.status.idle": "2023-04-09T10:55:12.627438Z",
     "shell.execute_reply": "2023-04-09T10:55:12.62547Z",
     "shell.execute_reply.started": "2023-04-09T10:55:12.360587Z"
    }
   },
   "outputs": [],
   "source": [
    "fig,ax= plt.subplots(1,1,figsize=(15,7))\n",
    "\n",
    "ax.plot(df_copy['consumption'],'r-',label='Daily total Consumption')\n",
    "ax.plot(next_one_m,'b-',label='Daily predicted total Consumption')\n",
    "ax.legend()\n",
    "ax.set_title(\"Daily Energy Predicted Consumption using MA\")\n",
    "ax.set_xlabel(\"Date\")\n",
    "ax.set_ylabel(\"Energy Consumption\")\n",
    "plt.show()"
   ]
  },
  {
   "cell_type": "markdown",
   "metadata": {},
   "source": [
    "# **Autoregressive Integrated Moving Average (ARIMA)**"
   ]
  },
  {
   "cell_type": "code",
   "execution_count": null,
   "metadata": {
    "execution": {
     "iopub.execute_input": "2023-04-09T10:55:13.350266Z",
     "iopub.status.busy": "2023-04-09T10:55:13.34971Z",
     "iopub.status.idle": "2023-04-09T10:55:13.810312Z",
     "shell.execute_reply": "2023-04-09T10:55:13.808731Z",
     "shell.execute_reply.started": "2023-04-09T10:55:13.350214Z"
    }
   },
   "outputs": [],
   "source": [
    "model = ARIMA(df_copy,order=(10,1,1))\n",
    "model_fit = model.fit()\n",
    "\n",
    "next_one_m = model_fit.predict('2022-03-01','2022-03-31')"
   ]
  },
  {
   "cell_type": "code",
   "execution_count": null,
   "metadata": {
    "execution": {
     "iopub.execute_input": "2023-04-09T10:55:13.81334Z",
     "iopub.status.busy": "2023-04-09T10:55:13.812545Z",
     "iopub.status.idle": "2023-04-09T10:55:14.129218Z",
     "shell.execute_reply": "2023-04-09T10:55:14.127766Z",
     "shell.execute_reply.started": "2023-04-09T10:55:13.813278Z"
    }
   },
   "outputs": [],
   "source": [
    "fig,ax= plt.subplots(1,1,figsize=(15,7))\n",
    "\n",
    "ax.plot(df_copy['consumption'],'r-',label='Daily total Consumption')\n",
    "ax.plot(next_one_m,'b-',label='Daily predicted total Consumption')\n",
    "ax.legend()\n",
    "ax.set_title(\"Daily Energy Predicted Consumption using ARIMA\")\n",
    "ax.set_xlabel(\"Date\")\n",
    "ax.set_ylabel(\"Energy Consumption\")\n",
    "plt.show()"
   ]
  }
 ],
 "metadata": {
  "kernelspec": {
   "display_name": "Python 3 (ipykernel)",
   "language": "python",
   "name": "python3"
  },
  "language_info": {
   "codemirror_mode": {
    "name": "ipython",
    "version": 3
   },
   "file_extension": ".py",
   "mimetype": "text/x-python",
   "name": "python",
   "nbconvert_exporter": "python",
   "pygments_lexer": "ipython3",
   "version": "3.10.9"
  }
 },
 "nbformat": 4,
 "nbformat_minor": 4
}
